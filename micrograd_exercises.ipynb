{
  "nbformat": 4,
  "nbformat_minor": 0,
  "metadata": {
    "colab": {
      "provenance": [],
      "include_colab_link": true
    },
    "kernelspec": {
      "name": "python3",
      "display_name": "Python 3"
    },
    "language_info": {
      "name": "python"
    }
  },
  "cells": [
    {
      "cell_type": "markdown",
      "metadata": {
        "id": "view-in-github",
        "colab_type": "text"
      },
      "source": [
        "<a href=\"https://colab.research.google.com/github/alako/makemore/blob/main/micrograd_exercises.ipynb\" target=\"_parent\"><img src=\"https://colab.research.google.com/assets/colab-badge.svg\" alt=\"Open In Colab\"/></a>"
      ]
    },
    {
      "cell_type": "markdown",
      "source": [
        "# micrograd exercises\n",
        "\n",
        "1. watch the [micrograd video](https://www.youtube.com/watch?v=VMj-3S1tku0) on YouTube\n",
        "2. come back and complete these exercises to level up :)"
      ],
      "metadata": {
        "id": "JnGHatCI51JP"
      }
    },
    {
      "cell_type": "markdown",
      "source": [
        "## section 1: derivatives"
      ],
      "metadata": {
        "id": "OFt6NKOz6iBZ"
      }
    },
    {
      "cell_type": "code",
      "source": [
        "# here is a mathematical expression that takes 3 inputs and produces one output\n",
        "from math import sin, cos\n",
        "\n",
        "def f(a, b, c):\n",
        "  return -a**3 + sin(3*b) - 1.0/c + b**2.5 - a**0.5\n",
        "\n",
        "print(f(2, 3, 4))"
      ],
      "metadata": {
        "id": "3Jx9fCXl5xHd",
        "outputId": "8cab1a7a-a66e-4d5e-8a50-ee67faf8ff56",
        "colab": {
          "base_uri": "https://localhost:8080/"
        }
      },
      "execution_count": 1,
      "outputs": [
        {
          "output_type": "stream",
          "name": "stdout",
          "text": [
            "6.336362190988558\n"
          ]
        }
      ]
    },
    {
      "cell_type": "code",
      "source": [
        "# write the function df that returns the analytical gradient of f\n",
        "# i.e. use your skills from calculus to take the derivative, then implement the formula\n",
        "# if you do not calculus then feel free to ask wolframalpha, e.g.:\n",
        "# https://www.wolframalpha.com/input?i=d%2Fda%28sin%283*a%29%29%29\n",
        "\n",
        "def gradf(a, b, c):\n",
        "  da = -3*a**2-0.5*a**(-0.5)\n",
        "  db = 3*cos(3*b) +2.5*b**(1.5)\n",
        "  dc = 1/c**2\n",
        "\n",
        "  return [da, db, dc] # todo, return [df/da, df/db, df/dc]\n",
        "\n",
        "# expected answer is the list of\n",
        "ans = [-12.353553390593273, 10.25699027111255, 0.0625]\n",
        "yours = gradf(2, 3, 4)\n",
        "for dim in range(3):\n",
        "  ok = 'OK' if abs(yours[dim] - ans[dim]) < 1e-5 else 'WRONG!'\n",
        "  print(f\"{ok} for dim {dim}: expected {ans[dim]}, yours returns {yours[dim]}\")\n"
      ],
      "metadata": {
        "id": "qXaH59eL9zxf",
        "outputId": "3ed43d48-f749-4c13-d698-cb60fff80366",
        "colab": {
          "base_uri": "https://localhost:8080/"
        }
      },
      "execution_count": 2,
      "outputs": [
        {
          "output_type": "stream",
          "name": "stdout",
          "text": [
            "OK for dim 0: expected -12.353553390593273, yours returns -12.353553390593273\n",
            "OK for dim 1: expected 10.25699027111255, yours returns 10.25699027111255\n",
            "OK for dim 2: expected 0.0625, yours returns 0.0625\n"
          ]
        }
      ]
    },
    {
      "cell_type": "code",
      "source": [
        "# now estimate the gradient numerically without any calculus, using\n",
        "# the approximation we used in the video.\n",
        "# you should not call the function df from the last cell\n",
        "\n",
        "# -----------\n",
        "h=0.000001\n",
        "da = (f(2+h,3,4) - f(2,3,4))/h\n",
        "db = (f(2,3+h,4) - f(2,3,4))/h\n",
        "dc = (f(2,3,4+h) - f(2,3,4))/h\n",
        "numerical_grad = [da, db, dc] # TODO\n",
        "# -----------\n",
        "\n",
        "for dim in range(3):\n",
        "  ok = 'OK' if abs(numerical_grad[dim] - ans[dim]) < 1e-5 else 'WRONG!'\n",
        "  print(f\"{ok} for dim {dim}: expected {ans[dim]}, yours returns {numerical_grad[dim]}\")\n"
      ],
      "metadata": {
        "id": "_27n-KTA9Qla",
        "outputId": "f53abbdc-c265-4cfc-de0f-5a76147a740c",
        "colab": {
          "base_uri": "https://localhost:8080/"
        }
      },
      "execution_count": 3,
      "outputs": [
        {
          "output_type": "stream",
          "name": "stdout",
          "text": [
            "OK for dim 0: expected -12.353553390593273, yours returns -12.353559348809995\n",
            "OK for dim 1: expected 10.25699027111255, yours returns 10.256991666679482\n",
            "OK for dim 2: expected 0.0625, yours returns 0.062499984743169534\n"
          ]
        }
      ]
    },
    {
      "cell_type": "code",
      "source": [
        "# there is an alternative formula that provides a much better numerical\n",
        "# approximation to the derivative of a function.\n",
        "# learn about it here: https://en.wikipedia.org/wiki/Symmetric_derivative\n",
        "# implement it. confirm that for the same step size h this version gives a\n",
        "# better approximation.\n",
        "\n",
        "# -----------\n",
        "\n",
        "h=0.000001\n",
        "da = (f(2+h,3,4) - f(2-h,3,4))/(2*h)\n",
        "db = (f(2,3+h,4) - f(2,3-h,4))/(2*h)\n",
        "dc = (f(2,3,4+h) - f(2,3,4-h))/(2*h)\n",
        "numerical_grad2 = [da, db, dc] # TODO\n",
        "# -----------\n",
        "\n",
        "for dim in range(3):\n",
        "  ok = 'OK' if abs(numerical_grad2[dim] - ans[dim]) < 1e-5 else 'WRONG!'\n",
        "  print(f\"{ok} for dim {dim}: expected {ans[dim]}, yours returns {numerical_grad2[dim]}\")\n"
      ],
      "metadata": {
        "id": "BUqsGb5o_h2P",
        "outputId": "56a1ccaf-40f8-4b4e-812f-64f68586d7c9",
        "colab": {
          "base_uri": "https://localhost:8080/"
        }
      },
      "execution_count": 4,
      "outputs": [
        {
          "output_type": "stream",
          "name": "stdout",
          "text": [
            "OK for dim 0: expected -12.353553390593273, yours returns -12.353553391353245\n",
            "OK for dim 1: expected 10.25699027111255, yours returns 10.25699027401572\n",
            "OK for dim 2: expected 0.0625, yours returns 0.06250000028629188\n"
          ]
        }
      ]
    },
    {
      "cell_type": "markdown",
      "source": [
        "## section 2: support for softmax"
      ],
      "metadata": {
        "id": "tklF9s_4AtlI"
      }
    },
    {
      "cell_type": "code",
      "source": [
        "from graphviz import Digraph\n",
        "\n",
        "def trace(root):\n",
        "  # builds a set of all nodes and edges in a graph\n",
        "  nodes, edges = set(), set()\n",
        "  def build(v):\n",
        "    if v not in nodes:\n",
        "      nodes.add(v)\n",
        "      for child in v._prev:\n",
        "        edges.add((child, v))\n",
        "        build(child)\n",
        "  build(root)\n",
        "  return nodes, edges\n",
        "\n",
        "def draw_dot(root):\n",
        "  dot = Digraph(format='svg', graph_attr={'rankdir': 'LR'}) # LR = left to right\n",
        "\n",
        "  nodes, edges = trace(root)\n",
        "  for n in nodes:\n",
        "    uid = str(id(n))\n",
        "    # for any value in the graph, create a rectangular ('record') node for it\n",
        "    dot.node(name = uid, label = \"{ %s | data %.4f | grad %.4f }\" % (n.label, n.data, n.grad), shape='record')\n",
        "    if n._op:\n",
        "      # if this value is a result of some operation, create an op node for it\n",
        "      dot.node(name = uid + n._op, label = n._op)\n",
        "      # and connect this node to it\n",
        "      dot.edge(uid + n._op, uid)\n",
        "\n",
        "  for n1, n2 in edges:\n",
        "    # connect n1 to the op node of n2\n",
        "    dot.edge(str(id(n1)), str(id(n2)) + n2._op)\n",
        "\n",
        "  return dot"
      ],
      "metadata": {
        "id": "bx9Oj_ra7UOn"
      },
      "execution_count": 11,
      "outputs": []
    },
    {
      "cell_type": "code",
      "source": [
        "# Value class starter code, with many functions taken out\n",
        "import math\n",
        "\n",
        "class Value:\n",
        "\n",
        "  def __init__(self, data, _children=(), _op='', label=''):\n",
        "    self.data = data\n",
        "    self.grad = 0.0\n",
        "    self._backward = lambda: None\n",
        "    self._prev = set(_children)\n",
        "    self._op = _op\n",
        "    self.label = label\n",
        "\n",
        "  def __repr__(self):\n",
        "    return f\"Value(data={self.data})\"\n",
        "\n",
        "  def __add__(self, other): # exactly as in the video\n",
        "    other = other if isinstance(other, Value) else Value(other)\n",
        "    out = Value(self.data + other.data, (self, other), '+')\n",
        "\n",
        "    def _backward():\n",
        "      self.grad += 1.0 * out.grad\n",
        "      other.grad += 1.0 * out.grad\n",
        "    out._backward = _backward\n",
        "\n",
        "    return out\n",
        "\n",
        "  def exp(self):\n",
        "    out = Value(math.exp(self.data), (self, ), 'exp')\n",
        "\n",
        "    def _backward():\n",
        "      self.grad += out.data * out.grad\n",
        "    out._backward = _backward\n",
        "\n",
        "    return out\n",
        "\n",
        "\n",
        "  def __truediv__(self, other):\n",
        "    other = other if isinstance(other, Value) else Value(other)\n",
        "    out = Value(self.data / other.data, (self, other), '/')\n",
        "\n",
        "    def _backward():\n",
        "      self.grad += 1/other.data * out.grad\n",
        "      other.grad += -out.data/other.data * out.grad\n",
        "    out._backward = _backward\n",
        "\n",
        "    return out\n",
        "\n",
        "\n",
        "  def log(self):\n",
        "    out = Value(math.log(self.data), (self,), 'log')\n",
        "    def _backward():\n",
        "      self.grad += 1/self.data * out.grad\n",
        "    out._backward = _backward\n",
        "\n",
        "    return out\n",
        "\n",
        "  def __neg__(self):\n",
        "    out = Value(-self.data, (self,), 'neg')\n",
        "    def _backward():\n",
        "      self.grad -= out.grad\n",
        "    out._backward = _backward\n",
        "\n",
        "    return out\n",
        "\n",
        "  def backward(self): # exactly as in video\n",
        "    topo = []\n",
        "    visited = set()\n",
        "    def build_topo(v):\n",
        "      if v not in visited:\n",
        "        visited.add(v)\n",
        "        for child in v._prev:\n",
        "          build_topo(child)\n",
        "        topo.append(v)\n",
        "    build_topo(self)\n",
        "\n",
        "    self.grad = 1.0\n",
        "    for node in reversed(topo):\n",
        "      node._backward()"
      ],
      "metadata": {
        "id": "nAPe_RVrCTeO"
      },
      "execution_count": 86,
      "outputs": []
    },
    {
      "cell_type": "code",
      "source": [
        "# without referencing our code/video __too__ much, make this cell work\n",
        "# you'll have to implement (in some cases re-implemented) a number of functions\n",
        "# of the Value object, similar to what we've seen in the video.\n",
        "# instead of the squared error loss this implements the negative log likelihood\n",
        "# loss, which is very often used in classification.\n",
        "\n",
        "# this is the softmax function\n",
        "# https://en.wikipedia.org/wiki/Softmax_function\n",
        "def softmax(logits):\n",
        "  counts = [logit.exp() for logit in logits]\n",
        "  denominator = sum(counts, Value(0))\n",
        "  out = [c / denominator for c in counts]\n",
        "\n",
        "  return out\n",
        "\n",
        "# this is the negative log likelihood loss function, pervasive in classification\n",
        "logits = [Value(0.0), Value(3.0), Value(-2.0), Value(1.0)]\n",
        "probs = softmax(logits)\n",
        "loss = -probs[3].log() # dim 3 acts as the label for this input example\n",
        "loss.backward()\n",
        "print(loss.data)\n",
        "\n",
        "ans = [0.041772570515350445, 0.8390245074625319, 0.005653302662216329, -0.8864503806400986]\n",
        "for dim in range(4):\n",
        "  ok = 'OK' if abs(logits[dim].grad - ans[dim]) < 1e-5 else 'WRONG!'\n",
        "  print(f\"{ok} for dim {dim}: expected {ans[dim]}, yours returns {logits[dim].grad}\")\n"
      ],
      "metadata": {
        "id": "VgWvwVQNAvnI",
        "outputId": "e4df12f9-05b9-485f-caea-e318b0e882b9",
        "colab": {
          "base_uri": "https://localhost:8080/"
        }
      },
      "execution_count": 87,
      "outputs": [
        {
          "output_type": "stream",
          "name": "stdout",
          "text": [
            "2.1755153626167147\n",
            "OK for dim 0: expected 0.041772570515350445, yours returns 0.041772570515350445\n",
            "OK for dim 1: expected 0.8390245074625319, yours returns 0.8390245074625319\n",
            "OK for dim 2: expected 0.005653302662216329, yours returns 0.005653302662216329\n",
            "OK for dim 3: expected -0.8864503806400986, yours returns -0.886450380640099\n"
          ]
        }
      ]
    },
    {
      "cell_type": "code",
      "source": [
        "draw_dot(loss)"
      ],
      "metadata": {
        "id": "ShJ1gym17ZVu",
        "outputId": "78be3844-5a5f-4fcd-e759-7add824582b3",
        "colab": {
          "base_uri": "https://localhost:8080/",
          "height": 395
        }
      },
      "execution_count": 88,
      "outputs": [
        {
          "output_type": "execute_result",
          "data": {
            "image/svg+xml": "<?xml version=\"1.0\" encoding=\"UTF-8\" standalone=\"no\"?>\n<!DOCTYPE svg PUBLIC \"-//W3C//DTD SVG 1.1//EN\"\n \"http://www.w3.org/Graphics/SVG/1.1/DTD/svg11.dtd\">\n<!-- Generated by graphviz version 2.43.0 (0)\n -->\n<!-- Title: %3 Pages: 1 -->\n<svg width=\"2695pt\" height=\"265pt\"\n viewBox=\"0.00 0.00 2695.00 265.00\" xmlns=\"http://www.w3.org/2000/svg\" xmlns:xlink=\"http://www.w3.org/1999/xlink\">\n<g id=\"graph0\" class=\"graph\" transform=\"scale(1 1) rotate(0) translate(4 261)\">\n<title>%3</title>\n<polygon fill=\"white\" stroke=\"transparent\" points=\"-4,4 -4,-261 2691,-261 2691,4 -4,4\"/>\n<!-- 133375519230464 -->\n<g id=\"node1\" class=\"node\">\n<title>133375519230464</title>\n<polygon fill=\"none\" stroke=\"black\" points=\"308,-0.5 308,-36.5 490,-36.5 490,-0.5 308,-0.5\"/>\n<text text-anchor=\"middle\" x=\"318\" y=\"-14.8\" font-family=\"Times,serif\" font-size=\"14.00\"> </text>\n<polyline fill=\"none\" stroke=\"black\" points=\"328,-0.5 328,-36.5 \"/>\n<text text-anchor=\"middle\" x=\"368\" y=\"-14.8\" font-family=\"Times,serif\" font-size=\"14.00\">data 1.0000</text>\n<polyline fill=\"none\" stroke=\"black\" points=\"408,-0.5 408,-36.5 \"/>\n<text text-anchor=\"middle\" x=\"449\" y=\"-14.8\" font-family=\"Times,serif\" font-size=\"14.00\">grad 0.0418</text>\n</g>\n<!-- 133375519241504+ -->\n<g id=\"node20\" class=\"node\">\n<title>133375519241504+</title>\n<ellipse fill=\"none\" stroke=\"black\" cx=\"553\" cy=\"-73.5\" rx=\"27\" ry=\"18\"/>\n<text text-anchor=\"middle\" x=\"553\" y=\"-69.8\" font-family=\"Times,serif\" font-size=\"14.00\">+</text>\n</g>\n<!-- 133375519230464&#45;&gt;133375519241504+ -->\n<g id=\"edge12\" class=\"edge\">\n<title>133375519230464&#45;&gt;133375519241504+</title>\n<path fill=\"none\" stroke=\"black\" d=\"M464.26,-36.64C472.97,-39.43 481.75,-42.41 490,-45.5 500.48,-49.42 511.69,-54.27 521.66,-58.83\"/>\n<polygon fill=\"black\" stroke=\"black\" points=\"520.23,-62.02 530.77,-63.07 523.18,-55.68 520.23,-62.02\"/>\n</g>\n<!-- 133375519230464exp -->\n<g id=\"node2\" class=\"node\">\n<title>133375519230464exp</title>\n<ellipse fill=\"none\" stroke=\"black\" cx=\"245\" cy=\"-18.5\" rx=\"27\" ry=\"18\"/>\n<text text-anchor=\"middle\" x=\"245\" y=\"-14.8\" font-family=\"Times,serif\" font-size=\"14.00\">exp</text>\n</g>\n<!-- 133375519230464exp&#45;&gt;133375519230464 -->\n<g id=\"edge1\" class=\"edge\">\n<title>133375519230464exp&#45;&gt;133375519230464</title>\n<path fill=\"none\" stroke=\"black\" d=\"M272.13,-18.5C279.67,-18.5 288.39,-18.5 297.64,-18.5\"/>\n<polygon fill=\"black\" stroke=\"black\" points=\"297.87,-22 307.87,-18.5 297.87,-15 297.87,-22\"/>\n</g>\n<!-- 133375676822528 -->\n<g id=\"node3\" class=\"node\">\n<title>133375676822528</title>\n<polygon fill=\"none\" stroke=\"black\" points=\"0,-0.5 0,-36.5 182,-36.5 182,-0.5 0,-0.5\"/>\n<text text-anchor=\"middle\" x=\"10\" y=\"-14.8\" font-family=\"Times,serif\" font-size=\"14.00\"> </text>\n<polyline fill=\"none\" stroke=\"black\" points=\"20,-0.5 20,-36.5 \"/>\n<text text-anchor=\"middle\" x=\"60\" y=\"-14.8\" font-family=\"Times,serif\" font-size=\"14.00\">data 0.0000</text>\n<polyline fill=\"none\" stroke=\"black\" points=\"100,-0.5 100,-36.5 \"/>\n<text text-anchor=\"middle\" x=\"141\" y=\"-14.8\" font-family=\"Times,serif\" font-size=\"14.00\">grad 0.0418</text>\n</g>\n<!-- 133375676822528&#45;&gt;133375519230464exp -->\n<g id=\"edge25\" class=\"edge\">\n<title>133375676822528&#45;&gt;133375519230464exp</title>\n<path fill=\"none\" stroke=\"black\" d=\"M182.18,-18.5C191.14,-18.5 199.83,-18.5 207.73,-18.5\"/>\n<polygon fill=\"black\" stroke=\"black\" points=\"207.96,-22 217.96,-18.5 207.96,-15 207.96,-22\"/>\n</g>\n<!-- 133375689991184 -->\n<g id=\"node4\" class=\"node\">\n<title>133375689991184</title>\n<polygon fill=\"none\" stroke=\"black\" points=\"308,-55.5 308,-91.5 490,-91.5 490,-55.5 308,-55.5\"/>\n<text text-anchor=\"middle\" x=\"318\" y=\"-69.8\" font-family=\"Times,serif\" font-size=\"14.00\"> </text>\n<polyline fill=\"none\" stroke=\"black\" points=\"328,-55.5 328,-91.5 \"/>\n<text text-anchor=\"middle\" x=\"368\" y=\"-69.8\" font-family=\"Times,serif\" font-size=\"14.00\">data 0.0000</text>\n<polyline fill=\"none\" stroke=\"black\" points=\"408,-55.5 408,-91.5 \"/>\n<text text-anchor=\"middle\" x=\"449\" y=\"-69.8\" font-family=\"Times,serif\" font-size=\"14.00\">grad 0.0418</text>\n</g>\n<!-- 133375689991184&#45;&gt;133375519241504+ -->\n<g id=\"edge27\" class=\"edge\">\n<title>133375689991184&#45;&gt;133375519241504+</title>\n<path fill=\"none\" stroke=\"black\" d=\"M490.18,-73.5C499.14,-73.5 507.83,-73.5 515.73,-73.5\"/>\n<polygon fill=\"black\" stroke=\"black\" points=\"515.96,-77 525.96,-73.5 515.96,-70 515.96,-77\"/>\n</g>\n<!-- 133375519239728 -->\n<g id=\"node5\" class=\"node\">\n<title>133375519239728</title>\n<polygon fill=\"none\" stroke=\"black\" points=\"931,-110.5 931,-146.5 1120,-146.5 1120,-110.5 931,-110.5\"/>\n<text text-anchor=\"middle\" x=\"941\" y=\"-124.8\" font-family=\"Times,serif\" font-size=\"14.00\"> </text>\n<polyline fill=\"none\" stroke=\"black\" points=\"951,-110.5 951,-146.5 \"/>\n<text text-anchor=\"middle\" x=\"994.5\" y=\"-124.8\" font-family=\"Times,serif\" font-size=\"14.00\">data 21.0855</text>\n<polyline fill=\"none\" stroke=\"black\" points=\"1038,-110.5 1038,-146.5 \"/>\n<text text-anchor=\"middle\" x=\"1079\" y=\"-124.8\" font-family=\"Times,serif\" font-size=\"14.00\">grad 0.0418</text>\n</g>\n<!-- 133375519232816+ -->\n<g id=\"node22\" class=\"node\">\n<title>133375519232816+</title>\n<ellipse fill=\"none\" stroke=\"black\" cx=\"1183\" cy=\"-183.5\" rx=\"27\" ry=\"18\"/>\n<text text-anchor=\"middle\" x=\"1183\" y=\"-179.8\" font-family=\"Times,serif\" font-size=\"14.00\">+</text>\n</g>\n<!-- 133375519239728&#45;&gt;133375519232816+ -->\n<g id=\"edge14\" class=\"edge\">\n<title>133375519239728&#45;&gt;133375519232816+</title>\n<path fill=\"none\" stroke=\"black\" d=\"M1090.46,-146.54C1100.41,-149.67 1110.53,-153.03 1120,-156.5 1130.25,-160.25 1141.24,-164.84 1151.07,-169.16\"/>\n<polygon fill=\"black\" stroke=\"black\" points=\"1149.89,-172.47 1160.45,-173.36 1152.75,-166.08 1149.89,-172.47\"/>\n</g>\n<!-- 133375519239728+ -->\n<g id=\"node6\" class=\"node\">\n<title>133375519239728+</title>\n<ellipse fill=\"none\" stroke=\"black\" cx=\"868\" cy=\"-128.5\" rx=\"27\" ry=\"18\"/>\n<text text-anchor=\"middle\" x=\"868\" y=\"-124.8\" font-family=\"Times,serif\" font-size=\"14.00\">+</text>\n</g>\n<!-- 133375519239728+&#45;&gt;133375519239728 -->\n<g id=\"edge2\" class=\"edge\">\n<title>133375519239728+&#45;&gt;133375519239728</title>\n<path fill=\"none\" stroke=\"black\" d=\"M895.03,-128.5C902.66,-128.5 911.52,-128.5 920.94,-128.5\"/>\n<polygon fill=\"black\" stroke=\"black\" points=\"920.94,-132 930.94,-128.5 920.94,-125 920.94,-132\"/>\n</g>\n<!-- 133378710309520 -->\n<g id=\"node7\" class=\"node\">\n<title>133378710309520</title>\n<polygon fill=\"none\" stroke=\"black\" points=\"308,-110.5 308,-146.5 490,-146.5 490,-110.5 308,-110.5\"/>\n<text text-anchor=\"middle\" x=\"318\" y=\"-124.8\" font-family=\"Times,serif\" font-size=\"14.00\"> </text>\n<polyline fill=\"none\" stroke=\"black\" points=\"328,-110.5 328,-146.5 \"/>\n<text text-anchor=\"middle\" x=\"368\" y=\"-124.8\" font-family=\"Times,serif\" font-size=\"14.00\">data 3.0000</text>\n<polyline fill=\"none\" stroke=\"black\" points=\"408,-110.5 408,-146.5 \"/>\n<text text-anchor=\"middle\" x=\"449\" y=\"-124.8\" font-family=\"Times,serif\" font-size=\"14.00\">grad 0.8390</text>\n</g>\n<!-- 133375519242704exp -->\n<g id=\"node27\" class=\"node\">\n<title>133375519242704exp</title>\n<ellipse fill=\"none\" stroke=\"black\" cx=\"553\" cy=\"-128.5\" rx=\"27\" ry=\"18\"/>\n<text text-anchor=\"middle\" x=\"553\" y=\"-124.8\" font-family=\"Times,serif\" font-size=\"14.00\">exp</text>\n</g>\n<!-- 133378710309520&#45;&gt;133375519242704exp -->\n<g id=\"edge16\" class=\"edge\">\n<title>133378710309520&#45;&gt;133375519242704exp</title>\n<path fill=\"none\" stroke=\"black\" d=\"M490.18,-128.5C499.14,-128.5 507.83,-128.5 515.73,-128.5\"/>\n<polygon fill=\"black\" stroke=\"black\" points=\"515.96,-132 525.96,-128.5 515.96,-125 515.96,-132\"/>\n</g>\n<!-- 133375519237280 -->\n<g id=\"node8\" class=\"node\">\n<title>133375519237280</title>\n<polygon fill=\"none\" stroke=\"black\" points=\"2505,-196.5 2505,-232.5 2687,-232.5 2687,-196.5 2505,-196.5\"/>\n<text text-anchor=\"middle\" x=\"2515\" y=\"-210.8\" font-family=\"Times,serif\" font-size=\"14.00\"> </text>\n<polyline fill=\"none\" stroke=\"black\" points=\"2525,-196.5 2525,-232.5 \"/>\n<text text-anchor=\"middle\" x=\"2565\" y=\"-210.8\" font-family=\"Times,serif\" font-size=\"14.00\">data 2.1755</text>\n<polyline fill=\"none\" stroke=\"black\" points=\"2605,-196.5 2605,-232.5 \"/>\n<text text-anchor=\"middle\" x=\"2646\" y=\"-210.8\" font-family=\"Times,serif\" font-size=\"14.00\">grad 1.0000</text>\n</g>\n<!-- 133375519237280neg -->\n<g id=\"node9\" class=\"node\">\n<title>133375519237280neg</title>\n<ellipse fill=\"none\" stroke=\"black\" cx=\"2442\" cy=\"-214.5\" rx=\"27\" ry=\"18\"/>\n<text text-anchor=\"middle\" x=\"2442\" y=\"-210.8\" font-family=\"Times,serif\" font-size=\"14.00\">neg</text>\n</g>\n<!-- 133375519237280neg&#45;&gt;133375519237280 -->\n<g id=\"edge3\" class=\"edge\">\n<title>133375519237280neg&#45;&gt;133375519237280</title>\n<path fill=\"none\" stroke=\"black\" d=\"M2469.13,-214.5C2476.67,-214.5 2485.39,-214.5 2494.64,-214.5\"/>\n<polygon fill=\"black\" stroke=\"black\" points=\"2494.87,-218 2504.87,-214.5 2494.87,-211 2494.87,-218\"/>\n</g>\n<!-- 133375519233200 -->\n<g id=\"node10\" class=\"node\">\n<title>133375519233200</title>\n<polygon fill=\"none\" stroke=\"black\" points=\"934.5,-165.5 934.5,-201.5 1116.5,-201.5 1116.5,-165.5 934.5,-165.5\"/>\n<text text-anchor=\"middle\" x=\"944.5\" y=\"-179.8\" font-family=\"Times,serif\" font-size=\"14.00\"> </text>\n<polyline fill=\"none\" stroke=\"black\" points=\"954.5,-165.5 954.5,-201.5 \"/>\n<text text-anchor=\"middle\" x=\"994.5\" y=\"-179.8\" font-family=\"Times,serif\" font-size=\"14.00\">data 0.1353</text>\n<polyline fill=\"none\" stroke=\"black\" points=\"1034.5,-165.5 1034.5,-201.5 \"/>\n<text text-anchor=\"middle\" x=\"1075.5\" y=\"-179.8\" font-family=\"Times,serif\" font-size=\"14.00\">grad 0.0418</text>\n</g>\n<!-- 133375519233200&#45;&gt;133375519232816+ -->\n<g id=\"edge26\" class=\"edge\">\n<title>133375519233200&#45;&gt;133375519232816+</title>\n<path fill=\"none\" stroke=\"black\" d=\"M1116.5,-183.5C1126.84,-183.5 1136.87,-183.5 1145.85,-183.5\"/>\n<polygon fill=\"black\" stroke=\"black\" points=\"1145.87,-187 1155.87,-183.5 1145.87,-180 1145.87,-187\"/>\n</g>\n<!-- 133375519233200exp -->\n<g id=\"node11\" class=\"node\">\n<title>133375519233200exp</title>\n<ellipse fill=\"none\" stroke=\"black\" cx=\"868\" cy=\"-183.5\" rx=\"27\" ry=\"18\"/>\n<text text-anchor=\"middle\" x=\"868\" y=\"-179.8\" font-family=\"Times,serif\" font-size=\"14.00\">exp</text>\n</g>\n<!-- 133375519233200exp&#45;&gt;133375519233200 -->\n<g id=\"edge4\" class=\"edge\">\n<title>133375519233200exp&#45;&gt;133375519233200</title>\n<path fill=\"none\" stroke=\"black\" d=\"M895.03,-183.5C903.48,-183.5 913.42,-183.5 923.98,-183.5\"/>\n<polygon fill=\"black\" stroke=\"black\" points=\"924.27,-187 934.27,-183.5 924.27,-180 924.27,-187\"/>\n</g>\n<!-- 133375519242416 -->\n<g id=\"node12\" class=\"node\">\n<title>133375519242416</title>\n<polygon fill=\"none\" stroke=\"black\" points=\"1247.5,-220.5 1247.5,-256.5 1433.5,-256.5 1433.5,-220.5 1247.5,-220.5\"/>\n<text text-anchor=\"middle\" x=\"1257.5\" y=\"-234.8\" font-family=\"Times,serif\" font-size=\"14.00\"> </text>\n<polyline fill=\"none\" stroke=\"black\" points=\"1267.5,-220.5 1267.5,-256.5 \"/>\n<text text-anchor=\"middle\" x=\"1307.5\" y=\"-234.8\" font-family=\"Times,serif\" font-size=\"14.00\">data 2.7183</text>\n<polyline fill=\"none\" stroke=\"black\" points=\"1347.5,-220.5 1347.5,-256.5 \"/>\n<text text-anchor=\"middle\" x=\"1390.5\" y=\"-234.8\" font-family=\"Times,serif\" font-size=\"14.00\">grad &#45;0.3261</text>\n</g>\n<!-- 133375519241936/ -->\n<g id=\"node15\" class=\"node\">\n<title>133375519241936/</title>\n<ellipse fill=\"none\" stroke=\"black\" cx=\"1813\" cy=\"-214.5\" rx=\"27\" ry=\"18\"/>\n<text text-anchor=\"middle\" x=\"1813\" y=\"-210.8\" font-family=\"Times,serif\" font-size=\"14.00\">/</text>\n</g>\n<!-- 133375519242416&#45;&gt;133375519241936/ -->\n<g id=\"edge19\" class=\"edge\">\n<title>133375519242416&#45;&gt;133375519241936/</title>\n<path fill=\"none\" stroke=\"black\" d=\"M1433.62,-235.11C1516.45,-231.85 1641.42,-226.4 1750,-219.5 1758.43,-218.96 1767.49,-218.29 1776.02,-217.61\"/>\n<polygon fill=\"black\" stroke=\"black\" points=\"1776.39,-221.09 1786.07,-216.79 1775.82,-214.11 1776.39,-221.09\"/>\n</g>\n<!-- 133375519240976+ -->\n<g id=\"node18\" class=\"node\">\n<title>133375519240976+</title>\n<ellipse fill=\"none\" stroke=\"black\" cx=\"1498\" cy=\"-191.5\" rx=\"27\" ry=\"18\"/>\n<text text-anchor=\"middle\" x=\"1498\" y=\"-187.8\" font-family=\"Times,serif\" font-size=\"14.00\">+</text>\n</g>\n<!-- 133375519242416&#45;&gt;133375519240976+ -->\n<g id=\"edge23\" class=\"edge\">\n<title>133375519242416&#45;&gt;133375519240976+</title>\n<path fill=\"none\" stroke=\"black\" d=\"M1404.95,-220.46C1415.02,-217.52 1425.31,-214.46 1435,-211.5 1444.37,-208.64 1454.5,-205.42 1463.81,-202.42\"/>\n<polygon fill=\"black\" stroke=\"black\" points=\"1465.07,-205.69 1473.5,-199.27 1462.91,-199.03 1465.07,-205.69\"/>\n</g>\n<!-- 133375519242416exp -->\n<g id=\"node13\" class=\"node\">\n<title>133375519242416exp</title>\n<ellipse fill=\"none\" stroke=\"black\" cx=\"1183\" cy=\"-238.5\" rx=\"27\" ry=\"18\"/>\n<text text-anchor=\"middle\" x=\"1183\" y=\"-234.8\" font-family=\"Times,serif\" font-size=\"14.00\">exp</text>\n</g>\n<!-- 133375519242416exp&#45;&gt;133375519242416 -->\n<g id=\"edge5\" class=\"edge\">\n<title>133375519242416exp&#45;&gt;133375519242416</title>\n<path fill=\"none\" stroke=\"black\" d=\"M1210.03,-238.5C1218,-238.5 1227.31,-238.5 1237.2,-238.5\"/>\n<polygon fill=\"black\" stroke=\"black\" points=\"1237.27,-242 1247.27,-238.5 1237.27,-235 1237.27,-242\"/>\n</g>\n<!-- 133375519241936 -->\n<g id=\"node14\" class=\"node\">\n<title>133375519241936</title>\n<polygon fill=\"none\" stroke=\"black\" points=\"1876,-196.5 1876,-232.5 2062,-232.5 2062,-196.5 1876,-196.5\"/>\n<text text-anchor=\"middle\" x=\"1886\" y=\"-210.8\" font-family=\"Times,serif\" font-size=\"14.00\"> </text>\n<polyline fill=\"none\" stroke=\"black\" points=\"1896,-196.5 1896,-232.5 \"/>\n<text text-anchor=\"middle\" x=\"1936\" y=\"-210.8\" font-family=\"Times,serif\" font-size=\"14.00\">data 0.1135</text>\n<polyline fill=\"none\" stroke=\"black\" points=\"1976,-196.5 1976,-232.5 \"/>\n<text text-anchor=\"middle\" x=\"2019\" y=\"-210.8\" font-family=\"Times,serif\" font-size=\"14.00\">grad &#45;8.8067</text>\n</g>\n<!-- 133375689991568log -->\n<g id=\"node24\" class=\"node\">\n<title>133375689991568log</title>\n<ellipse fill=\"none\" stroke=\"black\" cx=\"2125\" cy=\"-214.5\" rx=\"27\" ry=\"18\"/>\n<text text-anchor=\"middle\" x=\"2125\" y=\"-210.8\" font-family=\"Times,serif\" font-size=\"14.00\">log</text>\n</g>\n<!-- 133375519241936&#45;&gt;133375689991568log -->\n<g id=\"edge22\" class=\"edge\">\n<title>133375519241936&#45;&gt;133375689991568log</title>\n<path fill=\"none\" stroke=\"black\" d=\"M2062.25,-214.5C2071.15,-214.5 2079.76,-214.5 2087.59,-214.5\"/>\n<polygon fill=\"black\" stroke=\"black\" points=\"2087.73,-218 2097.73,-214.5 2087.73,-211 2087.73,-218\"/>\n</g>\n<!-- 133375519241936/&#45;&gt;133375519241936 -->\n<g id=\"edge6\" class=\"edge\">\n<title>133375519241936/&#45;&gt;133375519241936</title>\n<path fill=\"none\" stroke=\"black\" d=\"M1840.12,-214.5C1847.62,-214.5 1856.29,-214.5 1865.5,-214.5\"/>\n<polygon fill=\"black\" stroke=\"black\" points=\"1865.69,-218 1875.69,-214.5 1865.69,-211 1865.69,-218\"/>\n</g>\n<!-- 133375689996752 -->\n<g id=\"node16\" class=\"node\">\n<title>133375689996752</title>\n<polygon fill=\"none\" stroke=\"black\" points=\"932.5,-220.5 932.5,-256.5 1118.5,-256.5 1118.5,-220.5 932.5,-220.5\"/>\n<text text-anchor=\"middle\" x=\"942.5\" y=\"-234.8\" font-family=\"Times,serif\" font-size=\"14.00\"> </text>\n<polyline fill=\"none\" stroke=\"black\" points=\"952.5,-220.5 952.5,-256.5 \"/>\n<text text-anchor=\"middle\" x=\"992.5\" y=\"-234.8\" font-family=\"Times,serif\" font-size=\"14.00\">data 1.0000</text>\n<polyline fill=\"none\" stroke=\"black\" points=\"1032.5,-220.5 1032.5,-256.5 \"/>\n<text text-anchor=\"middle\" x=\"1075.5\" y=\"-234.8\" font-family=\"Times,serif\" font-size=\"14.00\">grad &#45;0.8865</text>\n</g>\n<!-- 133375689996752&#45;&gt;133375519242416exp -->\n<g id=\"edge17\" class=\"edge\">\n<title>133375689996752&#45;&gt;133375519242416exp</title>\n<path fill=\"none\" stroke=\"black\" d=\"M1118.75,-238.5C1128.32,-238.5 1137.58,-238.5 1145.93,-238.5\"/>\n<polygon fill=\"black\" stroke=\"black\" points=\"1145.97,-242 1155.97,-238.5 1145.97,-235 1145.97,-242\"/>\n</g>\n<!-- 133375519240976 -->\n<g id=\"node17\" class=\"node\">\n<title>133375519240976</title>\n<polygon fill=\"none\" stroke=\"black\" points=\"1561,-173.5 1561,-209.5 1750,-209.5 1750,-173.5 1561,-173.5\"/>\n<text text-anchor=\"middle\" x=\"1571\" y=\"-187.8\" font-family=\"Times,serif\" font-size=\"14.00\"> </text>\n<polyline fill=\"none\" stroke=\"black\" points=\"1581,-173.5 1581,-209.5 \"/>\n<text text-anchor=\"middle\" x=\"1624.5\" y=\"-187.8\" font-family=\"Times,serif\" font-size=\"14.00\">data 23.9392</text>\n<polyline fill=\"none\" stroke=\"black\" points=\"1668,-173.5 1668,-209.5 \"/>\n<text text-anchor=\"middle\" x=\"1709\" y=\"-187.8\" font-family=\"Times,serif\" font-size=\"14.00\">grad 0.0418</text>\n</g>\n<!-- 133375519240976&#45;&gt;133375519241936/ -->\n<g id=\"edge21\" class=\"edge\">\n<title>133375519240976&#45;&gt;133375519241936/</title>\n<path fill=\"none\" stroke=\"black\" d=\"M1750.1,-205.34C1759.4,-206.72 1768.38,-208.05 1776.49,-209.25\"/>\n<polygon fill=\"black\" stroke=\"black\" points=\"1776.19,-212.74 1786.59,-210.74 1777.21,-205.82 1776.19,-212.74\"/>\n</g>\n<!-- 133375519240976+&#45;&gt;133375519240976 -->\n<g id=\"edge7\" class=\"edge\">\n<title>133375519240976+&#45;&gt;133375519240976</title>\n<path fill=\"none\" stroke=\"black\" d=\"M1525.03,-191.5C1532.66,-191.5 1541.52,-191.5 1550.94,-191.5\"/>\n<polygon fill=\"black\" stroke=\"black\" points=\"1550.94,-195 1560.94,-191.5 1550.94,-188 1550.94,-195\"/>\n</g>\n<!-- 133375519241504 -->\n<g id=\"node19\" class=\"node\">\n<title>133375519241504</title>\n<polygon fill=\"none\" stroke=\"black\" points=\"619.5,-55.5 619.5,-91.5 801.5,-91.5 801.5,-55.5 619.5,-55.5\"/>\n<text text-anchor=\"middle\" x=\"629.5\" y=\"-69.8\" font-family=\"Times,serif\" font-size=\"14.00\"> </text>\n<polyline fill=\"none\" stroke=\"black\" points=\"639.5,-55.5 639.5,-91.5 \"/>\n<text text-anchor=\"middle\" x=\"679.5\" y=\"-69.8\" font-family=\"Times,serif\" font-size=\"14.00\">data 1.0000</text>\n<polyline fill=\"none\" stroke=\"black\" points=\"719.5,-55.5 719.5,-91.5 \"/>\n<text text-anchor=\"middle\" x=\"760.5\" y=\"-69.8\" font-family=\"Times,serif\" font-size=\"14.00\">grad 0.0418</text>\n</g>\n<!-- 133375519241504&#45;&gt;133375519239728+ -->\n<g id=\"edge20\" class=\"edge\">\n<title>133375519241504&#45;&gt;133375519239728+</title>\n<path fill=\"none\" stroke=\"black\" d=\"M775.46,-91.54C785.41,-94.67 795.53,-98.03 805,-101.5 815.25,-105.25 826.24,-109.84 836.07,-114.16\"/>\n<polygon fill=\"black\" stroke=\"black\" points=\"834.89,-117.47 845.45,-118.36 837.75,-111.08 834.89,-117.47\"/>\n</g>\n<!-- 133375519241504+&#45;&gt;133375519241504 -->\n<g id=\"edge8\" class=\"edge\">\n<title>133375519241504+&#45;&gt;133375519241504</title>\n<path fill=\"none\" stroke=\"black\" d=\"M580.03,-73.5C588.48,-73.5 598.42,-73.5 608.98,-73.5\"/>\n<polygon fill=\"black\" stroke=\"black\" points=\"609.27,-77 619.27,-73.5 609.27,-70 609.27,-77\"/>\n</g>\n<!-- 133375519232816 -->\n<g id=\"node21\" class=\"node\">\n<title>133375519232816</title>\n<polygon fill=\"none\" stroke=\"black\" points=\"1246,-165.5 1246,-201.5 1435,-201.5 1435,-165.5 1246,-165.5\"/>\n<text text-anchor=\"middle\" x=\"1256\" y=\"-179.8\" font-family=\"Times,serif\" font-size=\"14.00\"> </text>\n<polyline fill=\"none\" stroke=\"black\" points=\"1266,-165.5 1266,-201.5 \"/>\n<text text-anchor=\"middle\" x=\"1309.5\" y=\"-179.8\" font-family=\"Times,serif\" font-size=\"14.00\">data 21.2209</text>\n<polyline fill=\"none\" stroke=\"black\" points=\"1353,-165.5 1353,-201.5 \"/>\n<text text-anchor=\"middle\" x=\"1394\" y=\"-179.8\" font-family=\"Times,serif\" font-size=\"14.00\">grad 0.0418</text>\n</g>\n<!-- 133375519232816&#45;&gt;133375519240976+ -->\n<g id=\"edge13\" class=\"edge\">\n<title>133375519232816&#45;&gt;133375519240976+</title>\n<path fill=\"none\" stroke=\"black\" d=\"M1435.1,-188.32C1444.12,-188.78 1452.84,-189.23 1460.75,-189.64\"/>\n<polygon fill=\"black\" stroke=\"black\" points=\"1460.83,-193.14 1470.99,-190.16 1461.19,-186.15 1460.83,-193.14\"/>\n</g>\n<!-- 133375519232816+&#45;&gt;133375519232816 -->\n<g id=\"edge9\" class=\"edge\">\n<title>133375519232816+&#45;&gt;133375519232816</title>\n<path fill=\"none\" stroke=\"black\" d=\"M1210.03,-183.5C1217.66,-183.5 1226.52,-183.5 1235.94,-183.5\"/>\n<polygon fill=\"black\" stroke=\"black\" points=\"1235.94,-187 1245.94,-183.5 1235.94,-180 1235.94,-187\"/>\n</g>\n<!-- 133375689991568 -->\n<g id=\"node23\" class=\"node\">\n<title>133375689991568</title>\n<polygon fill=\"none\" stroke=\"black\" points=\"2188,-196.5 2188,-232.5 2379,-232.5 2379,-196.5 2188,-196.5\"/>\n<text text-anchor=\"middle\" x=\"2198\" y=\"-210.8\" font-family=\"Times,serif\" font-size=\"14.00\"> </text>\n<polyline fill=\"none\" stroke=\"black\" points=\"2208,-196.5 2208,-232.5 \"/>\n<text text-anchor=\"middle\" x=\"2250.5\" y=\"-210.8\" font-family=\"Times,serif\" font-size=\"14.00\">data &#45;2.1755</text>\n<polyline fill=\"none\" stroke=\"black\" points=\"2293,-196.5 2293,-232.5 \"/>\n<text text-anchor=\"middle\" x=\"2336\" y=\"-210.8\" font-family=\"Times,serif\" font-size=\"14.00\">grad &#45;1.0000</text>\n</g>\n<!-- 133375689991568&#45;&gt;133375519237280neg -->\n<g id=\"edge15\" class=\"edge\">\n<title>133375689991568&#45;&gt;133375519237280neg</title>\n<path fill=\"none\" stroke=\"black\" d=\"M2379.15,-214.5C2388.09,-214.5 2396.73,-214.5 2404.57,-214.5\"/>\n<polygon fill=\"black\" stroke=\"black\" points=\"2404.73,-218 2414.73,-214.5 2404.73,-211 2404.73,-218\"/>\n</g>\n<!-- 133375689991568log&#45;&gt;133375689991568 -->\n<g id=\"edge10\" class=\"edge\">\n<title>133375689991568log&#45;&gt;133375689991568</title>\n<path fill=\"none\" stroke=\"black\" d=\"M2152.19,-214.5C2159.67,-214.5 2168.31,-214.5 2177.51,-214.5\"/>\n<polygon fill=\"black\" stroke=\"black\" points=\"2177.68,-218 2187.68,-214.5 2177.68,-211 2177.68,-218\"/>\n</g>\n<!-- 133378710309808 -->\n<g id=\"node25\" class=\"node\">\n<title>133378710309808</title>\n<polygon fill=\"none\" stroke=\"black\" points=\"617,-165.5 617,-201.5 804,-201.5 804,-165.5 617,-165.5\"/>\n<text text-anchor=\"middle\" x=\"627\" y=\"-179.8\" font-family=\"Times,serif\" font-size=\"14.00\"> </text>\n<polyline fill=\"none\" stroke=\"black\" points=\"637,-165.5 637,-201.5 \"/>\n<text text-anchor=\"middle\" x=\"679.5\" y=\"-179.8\" font-family=\"Times,serif\" font-size=\"14.00\">data &#45;2.0000</text>\n<polyline fill=\"none\" stroke=\"black\" points=\"722,-165.5 722,-201.5 \"/>\n<text text-anchor=\"middle\" x=\"763\" y=\"-179.8\" font-family=\"Times,serif\" font-size=\"14.00\">grad 0.0057</text>\n</g>\n<!-- 133378710309808&#45;&gt;133375519233200exp -->\n<g id=\"edge24\" class=\"edge\">\n<title>133378710309808&#45;&gt;133375519233200exp</title>\n<path fill=\"none\" stroke=\"black\" d=\"M804.2,-183.5C813.52,-183.5 822.54,-183.5 830.69,-183.5\"/>\n<polygon fill=\"black\" stroke=\"black\" points=\"830.88,-187 840.88,-183.5 830.88,-180 830.88,-187\"/>\n</g>\n<!-- 133375519242704 -->\n<g id=\"node26\" class=\"node\">\n<title>133375519242704</title>\n<polygon fill=\"none\" stroke=\"black\" points=\"616,-110.5 616,-146.5 805,-146.5 805,-110.5 616,-110.5\"/>\n<text text-anchor=\"middle\" x=\"626\" y=\"-124.8\" font-family=\"Times,serif\" font-size=\"14.00\"> </text>\n<polyline fill=\"none\" stroke=\"black\" points=\"636,-110.5 636,-146.5 \"/>\n<text text-anchor=\"middle\" x=\"679.5\" y=\"-124.8\" font-family=\"Times,serif\" font-size=\"14.00\">data 20.0855</text>\n<polyline fill=\"none\" stroke=\"black\" points=\"723,-110.5 723,-146.5 \"/>\n<text text-anchor=\"middle\" x=\"764\" y=\"-124.8\" font-family=\"Times,serif\" font-size=\"14.00\">grad 0.0418</text>\n</g>\n<!-- 133375519242704&#45;&gt;133375519239728+ -->\n<g id=\"edge18\" class=\"edge\">\n<title>133375519242704&#45;&gt;133375519239728+</title>\n<path fill=\"none\" stroke=\"black\" d=\"M805.1,-128.5C814.12,-128.5 822.84,-128.5 830.75,-128.5\"/>\n<polygon fill=\"black\" stroke=\"black\" points=\"830.99,-132 840.99,-128.5 830.99,-125 830.99,-132\"/>\n</g>\n<!-- 133375519242704exp&#45;&gt;133375519242704 -->\n<g id=\"edge11\" class=\"edge\">\n<title>133375519242704exp&#45;&gt;133375519242704</title>\n<path fill=\"none\" stroke=\"black\" d=\"M580.03,-128.5C587.66,-128.5 596.52,-128.5 605.94,-128.5\"/>\n<polygon fill=\"black\" stroke=\"black\" points=\"605.94,-132 615.94,-128.5 605.94,-125 605.94,-132\"/>\n</g>\n</g>\n</svg>\n",
            "text/plain": [
              "<graphviz.graphs.Digraph at 0x794df29faf80>"
            ]
          },
          "metadata": {},
          "execution_count": 88
        }
      ]
    },
    {
      "cell_type": "code",
      "source": [],
      "metadata": {
        "id": "3EltYlJU_X4c"
      },
      "execution_count": null,
      "outputs": []
    },
    {
      "cell_type": "markdown",
      "source": [],
      "metadata": {
        "id": "7y3kjgJ98GTg"
      }
    },
    {
      "cell_type": "code",
      "source": [
        "# verify the gradient using the torch library\n",
        "# torch should give you the exact same gradient\n",
        "import torch\n",
        "\n",
        "import torch.nn.functional as F"
      ],
      "metadata": {
        "id": "q7ca1SVAGG1S"
      },
      "execution_count": 45,
      "outputs": []
    },
    {
      "cell_type": "code",
      "source": [
        "a = torch.Tensor([0.0]).double(); a.requires_grad = True\n",
        "b = torch.Tensor([3.0]).double(); b.requires_grad = True\n",
        "c = torch.Tensor([-2.0]).double(); c.requires_grad = True\n",
        "d = torch.Tensor([1.0]).double(); d.requires_grad = True\n",
        "\n",
        "logits = torch.stack([a, b, c, d])\n",
        "probs = F.softmax(logits, dim=0)\n",
        "loss = -torch.log(probs[3])\n",
        "loss.backward()\n",
        "\n",
        "ans = [0.041772570515350445, 0.8390245074625319, 0.005653302662216329, -0.8864503806400986]\n",
        "print([a.grad.item(), b.grad.item(), c.grad.item(), d.grad.item()])"
      ],
      "metadata": {
        "id": "5I--EjsfPsEm",
        "outputId": "2d92d975-58c4-4625-d39c-ee46b74544b2",
        "colab": {
          "base_uri": "https://localhost:8080/"
        }
      },
      "execution_count": 84,
      "outputs": [
        {
          "output_type": "stream",
          "name": "stdout",
          "text": [
            "[0.04177257051535046, 0.8390245074625321, 0.00565330266221633, -0.8864503806400988]\n"
          ]
        }
      ]
    }
  ]
}